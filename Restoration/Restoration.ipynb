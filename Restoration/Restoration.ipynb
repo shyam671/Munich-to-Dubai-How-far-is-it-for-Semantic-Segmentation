{
 "cells": [
  {
   "cell_type": "code",
   "execution_count": null,
   "metadata": {},
   "outputs": [],
   "source": [
    "import numpy as np\n",
    "\n",
    "import torch\n",
    "import torchvision\n",
    "import torch.nn as nn\n",
    "import torch.optim as optim\n",
    "from model import I2INet, CCNet\n",
    "from City_dataloader import dataloader, vdataloader\n",
    "from torch.optim import lr_scheduler\n",
    "from torch.autograd import Variable\n",
    "from pytorch_ssim import MSSSIM\n",
    "from torchvision import datasets, models, transforms\n",
    "from model_resnet import Discriminator\n",
    "import torchvision.transforms.functional as TF\n",
    "\n",
    "%matplotlib inline\n",
    "import os\n",
    "import matplotlib\n",
    "import matplotlib.pyplot as plt\n",
    "\n",
    "from skimage.measure import compare_ssim as ssim\n",
    "from skimage.measure import compare_psnr as psnr\n",
    "\n",
    "from vgg_features import vgg_features\n",
    "from PIL import Image\n",
    "from tqdm import tqdm"
   ]
  },
  {
   "cell_type": "code",
   "execution_count": null,
   "metadata": {},
   "outputs": [],
   "source": [
    "def mse(x, y):\n",
    "    return np.linalg.norm(x - y)\n",
    "\n",
    "def kl(p, q):\n",
    "    \"\"\"Kullback-Leibler divergence D(P || Q) for discrete distributions\n",
    "    Parameters\n",
    "    ----------\n",
    "    p, q : array-like, dtype=float, shape=n\n",
    "    Discrete probability distributions.\n",
    "    \"\"\"\n",
    "    p = np.asarray(p, dtype=np.float)\n",
    "    q = np.asarray(q, dtype=np.float)\n",
    "\n",
    "    return np.sum(np.where(p != 0, p * np.log(p / q), 0))"
   ]
  },
  {
   "cell_type": "code",
   "execution_count": null,
   "metadata": {},
   "outputs": [],
   "source": [
    "seed = 8\n",
    "torch.manual_seed(seed)\n",
    "torch.cuda.manual_seed(seed)\n",
    "torch.cuda.manual_seed_all(seed)  # if you are using multi-GPU.\n",
    "np.random.seed(seed)  # Numpy module.\n",
    "np.random.seed(seed)  # Python random module.\n",
    "torch.manual_seed(seed)\n",
    "torch.backends.cudnn.benchmark = False\n",
    "torch.backends.cudnn.deterministic = True\n",
    "\n",
    "def worker_init_fn(worker_id):                                                          \n",
    "    np.random.seed(8)"
   ]
  },
  {
   "cell_type": "code",
   "execution_count": null,
   "metadata": {},
   "outputs": [],
   "source": [
    "batch_size = 8\n",
    "lr_rate = 1e-4 #Change"
   ]
  },
  {
   "cell_type": "code",
   "execution_count": null,
   "metadata": {},
   "outputs": [],
   "source": [
    "transform = transforms.Compose([transforms.ToTensor(),transforms.Normalize([0.5, 0.5, 0.5], [0.5, 0.5, 0.5])])\n",
    "dataset = dataloader('/home/shyam.nandan/DeepLabv3.pytorch-master/data',transform )\n",
    "loader = torch.utils.data.DataLoader(dataset, batch_size=batch_size, shuffle=True, num_workers=4 ,pin_memory=False,worker_init_fn=worker_init_fn)\n",
    "vdataset = vdataloader('/home/shyam.nandan/DeepLabv3.pytorch-master/data',transform )\n",
    "vloader = torch.utils.data.DataLoader(vdataset, batch_size=1, shuffle=True, num_workers=4 ,pin_memory=False,worker_init_fn=worker_init_fn)"
   ]
  },
  {
   "cell_type": "code",
   "execution_count": null,
   "metadata": {},
   "outputs": [],
   "source": [
    "model = I2INet()\n",
    "model = model.cuda()\n",
    "model = nn.DataParallel(model, list(range(2)))\n",
    "print(model)\n",
    "netD = Discriminator().cuda()\n",
    "netD = nn.DataParallel(netD, list(range(2)))\n",
    "print(netD)\n",
    "loss_fn = nn.L1Loss()\n",
    "msssim_loss = MSSSIM()\n",
    "optimizer = optim.Adam(model.parameters(),lr=lr_rate, betas=(0.5, 0.999))\n",
    "optimizerD = optim.Adam(filter(lambda p: p.requires_grad, netD.parameters()),lr=lr_rate, betas=(0.5, 0.999))\n",
    "exp_lr_scheduler = lr_scheduler.StepLR(optimizer, step_size=15, gamma=0.1)\n",
    "vggf = vgg_features()"
   ]
  },
  {
   "cell_type": "code",
   "execution_count": null,
   "metadata": {
    "scrolled": true
   },
   "outputs": [],
   "source": [
    "model.train()\n",
    "track_loss = []\n",
    "short_avg = 0\n",
    "best_psnr = -100\n",
    "for Ep in range(25):\n",
    "    torch.save(model.state_dict(), 'EpochG_10_vgg.pth')\n",
    "    torch.save(netD.state_dict(), 'EpochD_10_vgg.pth')\n",
    "    exp_lr_scheduler.step()\n",
    "    for i, data in enumerate(tqdm(loader)):\n",
    "                Img = data['Img']\n",
    "                Img = Variable(Img).cuda()\n",
    "                tImg = data['tImg']\n",
    "                tImg = Variable(tImg).cuda()\n",
    "                output = model(tImg)\n",
    "                #####\n",
    "                optimizerD.zero_grad()\n",
    "                real_out = netD(Img)\n",
    "                fake_out = netD(output)\n",
    "                lossD = torch.mean((fake_out - 0)**2) + torch.mean((real_out - 1)**2)\n",
    "                lossD.backward()\n",
    "                optimizerD.step()\n",
    "\n",
    "                #####\n",
    "                output = model(tImg)\n",
    "                fake_out = netD(output)\n",
    "                loss = 100*loss_fn(output, Img) + torch.mean((fake_out - 1)**2) + 5*loss_fn(vggf.forward(output), vggf.forward(Img))\n",
    "                #loss = loss_fn(output, tImg)  + 20*(1 - msssim_loss(output, tImg))\n",
    "                short_avg += loss.data.cpu().numpy()\n",
    "                optimizer.zero_grad()\n",
    "                loss.backward()\n",
    "                optimizer.step()\n",
    "                if i%10 == 0:\n",
    "                    track_loss.append(short_avg/10)\n",
    "                    short_avg = 0  \n",
    "plt.plot(track_loss)"
   ]
  },
  {
   "cell_type": "code",
   "execution_count": null,
   "metadata": {},
   "outputs": [],
   "source": [
    "plt.plot(track_loss[1:])"
   ]
  },
  {
   "cell_type": "code",
   "execution_count": null,
   "metadata": {},
   "outputs": [],
   "source": [
    "torch.save(model.state_dict(), 'EpochG_10_vgg.pth')\n",
    "torch.save(netD.state_dict(), 'EpochD_10_vgg.pth')"
   ]
  },
  {
   "cell_type": "code",
   "execution_count": null,
   "metadata": {},
   "outputs": [],
   "source": [
    "model = I2INet()\n",
    "model = model.cuda()\n",
    "model = nn.DataParallel(model, list(range(2)))\n",
    "model.load_state_dict(torch.load('EpochG_10_vgg.pth'), strict = True)\n",
    "model.eval()"
   ]
  },
  {
   "cell_type": "code",
   "execution_count": null,
   "metadata": {},
   "outputs": [],
   "source": [
    "avg_loss = 0\n",
    "avg_mse = 0\n",
    "avg_ssim = 0\n",
    "avg_psnr = 0\n",
    "avg_kl = 0\n",
    "for i, data in enumerate(tqdm(vloader)):\n",
    "        target = data['Img']\n",
    "        output = model(data['tImg'].cpu())\n",
    "        output = torch.nn.functional.upsample(output,scale_factor=2, mode='bilinear', align_corners=True)\n",
    "        torchvision.utils.save_image(output, './'+data['Path'][0], nrow=1, padding=0, normalize=True, range=(-1,1))\n",
    "        \n",
    "        #t = target.data.cpu().numpy().reshape((512, 1024, 3))\n",
    "        #p = output.data.cpu().numpy().reshape((512, 1024, 3))\n",
    "\n",
    "        #avg_psnr += psnr(t, p, data_range = t.max() - t.min())\n",
    "        #avg_mse  += mse(t, p)\n",
    "        #avg_ssim += ssim(t, p, data_range = t.max() - t.min(), multichannel=True)\n",
    "#print('Avg_psne-mse-ssim-avgloss',avg_psnr/i,avg_mse/i, avg_ssim/i)   "
   ]
  },
  {
   "cell_type": "code",
   "execution_count": null,
   "metadata": {},
   "outputs": [],
   "source": [
    "#print('Avg_psne-mse-ssim-avgloss',avg_psnr/i,avg_mse/i, avg_ssim/i) \n",
    "torchvision.utils.save_image(output, 'test1.png', nrow=1, padding=0, normalize=True, range=(-1,1))\n",
    "torchvision.utils.save_image(target, 'test2.png', nrow=1, padding=0, normalize=True, range=(-1,1))\n",
    "torchvision.utils.save_image(data['tImg'].cuda(), 'test3.png', nrow=1, padding=0, normalize=True, range=(-1,1))"
   ]
  }
 ],
 "metadata": {
  "kernelspec": {
   "display_name": "Python 2",
   "language": "python",
   "name": "python2"
  },
  "language_info": {
   "codemirror_mode": {
    "name": "ipython",
    "version": 2
   },
   "file_extension": ".py",
   "mimetype": "text/x-python",
   "name": "python",
   "nbconvert_exporter": "python",
   "pygments_lexer": "ipython2",
   "version": "2.7.15+"
  }
 },
 "nbformat": 4,
 "nbformat_minor": 2
}
